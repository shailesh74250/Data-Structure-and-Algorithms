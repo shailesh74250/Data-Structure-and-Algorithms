{
 "cells": [
  {
   "cell_type": "code",
   "execution_count": 1,
   "metadata": {},
   "outputs": [
    {
     "data": {
      "text/plain": [
       "\"\\nSet is a collection of items not in any particular order.\\n* The elements in the set cannot be duplicates.\\n* The elements in the set are immutable (cannot be modified) but the set \\nas a whole is mutable.\\n* There is no index attached to any element in a python set. So they do\\nnot support any indexing or slicing operation.\\n\\nThe sets in python are typically used for mathematical operations like\\nunion, intersection, difference and complement etc.\\nWe can create a set, access it's elements and carry out these mathematical operations as shown below.\\n\""
      ]
     },
     "execution_count": 1,
     "metadata": {},
     "output_type": "execute_result"
    }
   ],
   "source": [
    "# Set datastructure in python\n",
    "\"\"\"\n",
    "Set is a collection of items not in any particular order.\n",
    "* The elements in the set cannot be duplicates.\n",
    "* The elements in the set are immutable (cannot be modified) but the set \n",
    "as a whole is mutable.\n",
    "* There is no index attached to any element in a python set. So they do\n",
    "not support any indexing or slicing operation.\n",
    "\n",
    "The sets in python are typically used for mathematical operations like\n",
    "union, intersection, difference and complement etc.\n",
    "We can create a set, access it's elements and carry out these mathematical operations as shown below.\n",
    "\"\"\""
   ]
  },
  {
   "cell_type": "code",
   "execution_count": 2,
   "metadata": {},
   "outputs": [
    {
     "name": "stdout",
     "output_type": "stream",
     "text": [
      "set(['wed', 'Sun', 'Fri', 'Tue', 'mon', 'Thu', 'Sat'])\n",
      "set(['Jan', 'Mar', 'Feb'])\n",
      "set([17, 21, 22])\n"
     ]
    }
   ],
   "source": [
    "# A set is created by using the set() function or placing all the elements within a pair of curly braces.\n",
    "Days = set([\"mon\",\"Tue\",\"wed\",\"Thu\",\"Fri\",\"Sat\",\"Sun\"])\n",
    "Months = {\"Jan\",\"Feb\",\"Mar\"}\n",
    "Dates = {21,22,17}\n",
    "print(Days)\n",
    "print(Months)\n",
    "print(Dates)"
   ]
  },
  {
   "cell_type": "code",
   "execution_count": 3,
   "metadata": {},
   "outputs": [
    {
     "name": "stdout",
     "output_type": "stream",
     "text": [
      "Wed\n",
      "Sun\n",
      "Fri\n",
      "Tue\n",
      "Mon\n",
      "Thu\n",
      "Sat\n"
     ]
    }
   ],
   "source": [
    "# Accessing values in a set\n",
    "\"\"\"\n",
    "We cannot access individual values in a set. We can only access all the\n",
    "elements together as shown above. But we can also get a list of individual elements by looping \n",
    "through the set.\n",
    "\"\"\"\n",
    "Days = set([\"Mon\",\"Tue\",\"Wed\",\"Thu\",\"Fri\",\"Sat\",\"Sun\"])\n",
    "for d in Days:\n",
    "    print(d)"
   ]
  },
  {
   "cell_type": "code",
   "execution_count": 4,
   "metadata": {},
   "outputs": [
    {
     "name": "stdout",
     "output_type": "stream",
     "text": [
      "set(['Wed', 'Sun', 'Fri', 'Tue', 'Mon', 'Thu', 'Sat'])\n"
     ]
    }
   ],
   "source": [
    "# Adding Items to a set\n",
    "\"\"\"\n",
    "We can add elements to a set by using add() method. Again as discussed there is no specific index \n",
    "attached to the newly added element.\n",
    "\"\"\"\n",
    "Days = set([\"Mon\",\"Tue\",\"Wed\",\"Thu\",\"Fri\",\"Sat\"])\n",
    "Days.add(\"Sun\")\n",
    "print(Days)"
   ]
  },
  {
   "cell_type": "code",
   "execution_count": 6,
   "metadata": {},
   "outputs": [
    {
     "ename": "TypeError",
     "evalue": "unhashable type: 'list'",
     "output_type": "error",
     "traceback": [
      "\u001b[0;31m---------------------------------------------------------------------------\u001b[0m",
      "\u001b[0;31mTypeError\u001b[0m                                 Traceback (most recent call last)",
      "\u001b[0;32m<ipython-input-6-9ca8b4d8fd1b>\u001b[0m in \u001b[0;36m<module>\u001b[0;34m()\u001b[0m\n\u001b[1;32m      4\u001b[0m  \u001b[0mthere\u001b[0m \u001b[0;32mis\u001b[0m \u001b[0mno\u001b[0m \u001b[0mspecific\u001b[0m \u001b[0mindex\u001b[0m \u001b[0mattached\u001b[0m \u001b[0mto\u001b[0m \u001b[0mthe\u001b[0m \u001b[0mnewly\u001b[0m \u001b[0madded\u001b[0m \u001b[0melement\u001b[0m\u001b[0;34m.\u001b[0m\u001b[0;34m\u001b[0m\u001b[0m\n\u001b[1;32m      5\u001b[0m \"\"\"\n\u001b[0;32m----> 6\u001b[0;31m \u001b[0mDays\u001b[0m \u001b[0;34m=\u001b[0m \u001b[0;34m{\u001b[0m\u001b[0;34m[\u001b[0m\u001b[0;34m\"Mon\"\u001b[0m\u001b[0;34m,\u001b[0m\u001b[0;34m\"Tue\"\u001b[0m\u001b[0;34m,\u001b[0m\u001b[0;34m\"Wed\"\u001b[0m\u001b[0;34m,\u001b[0m\u001b[0;34m\"Thu\"\u001b[0m\u001b[0;34m,\u001b[0m\u001b[0;34m\"Fri\"\u001b[0m\u001b[0;34m,\u001b[0m\u001b[0;34m\"Sat\"\u001b[0m\u001b[0;34m]\u001b[0m\u001b[0;34m}\u001b[0m\u001b[0;34m\u001b[0m\u001b[0m\n\u001b[0m\u001b[1;32m      7\u001b[0m \u001b[0mDays\u001b[0m\u001b[0;34m.\u001b[0m\u001b[0mdiscard\u001b[0m\u001b[0;34m(\u001b[0m\u001b[0;34m\"Sun\"\u001b[0m\u001b[0;34m)\u001b[0m\u001b[0;34m\u001b[0m\u001b[0m\n",
      "\u001b[0;31mTypeError\u001b[0m: unhashable type: 'list'"
     ]
    }
   ],
   "source": [
    "# Removing item from a set\n",
    "\"\"\"\n",
    "We can remove elements from a set by using discard() method. Again as discussed\n",
    " there is no specific index attached to the newly added element.\n",
    "\"\"\"\n",
    "Days = {[\"Mon\",\"Tue\",\"Wed\",\"Thu\",\"Fri\",\"Sat\"]}\n",
    "Days.discard(\"Sun\")"
   ]
  },
  {
   "cell_type": "code",
   "execution_count": 7,
   "metadata": {},
   "outputs": [
    {
     "name": "stdout",
     "output_type": "stream",
     "text": [
      "set(['Wed', 'Sun', 'Thu', 'Mon', 'Fri', 'Tue', 'Sat'])\n"
     ]
    }
   ],
   "source": [
    "# Union of Sets\n",
    "\"\"\"\n",
    "The union operation on two sets produces a new set containing all the distinct\n",
    "elements from both the sets. In the below example the element \"Wed\" is present in \n",
    "both the sets.\n",
    "\"\"\"\n",
    "DaysA = set([\"Mon\",\"Tue\",\"Wed\"])\n",
    "DaysB = set([\"Wed\",\"Thu\",\"Fri\",\"Sat\",\"Sun\"])\n",
    "AllDays = DaysA|DaysB\n",
    "print(AllDays)"
   ]
  },
  {
   "cell_type": "code",
   "execution_count": 11,
   "metadata": {},
   "outputs": [
    {
     "name": "stdout",
     "output_type": "stream",
     "text": [
      "set(['Wed'])\n"
     ]
    }
   ],
   "source": [
    "# Intersection of Sets\n",
    "DaysA = set([\"Mon\",\"Tue\",\"Wed\"])\n",
    "DaysB = set([\"Wed\",\"Thu\",\"Fri\",\"Sat\",\"Sun\"])\n",
    "AllDays = DaysA & DaysB\n",
    "print(AllDays)"
   ]
  },
  {
   "cell_type": "code",
   "execution_count": 13,
   "metadata": {},
   "outputs": [
    {
     "name": "stdout",
     "output_type": "stream",
     "text": [
      "set(['Mon', 'Tue'])\n"
     ]
    }
   ],
   "source": [
    "# Difference of Sets\n",
    "AllDays = DaysA - DaysB\n",
    "print(AllDays)"
   ]
  },
  {
   "cell_type": "code",
   "execution_count": 15,
   "metadata": {},
   "outputs": [
    {
     "name": "stdout",
     "output_type": "stream",
     "text": [
      "False\n",
      "False\n"
     ]
    }
   ],
   "source": [
    "# Compare sets\n",
    "\"\"\"\n",
    "We can check if a given set is a subset or superset of another set. The\n",
    "result is true or false depending on the elements preset in the sets.\n",
    "\"\"\"\n",
    "SubsetRes = DaysA <= DaysB\n",
    "SupersetRes = DaysB >= DaysA\n",
    "print(SubsetRes)\n",
    "print(SupersetRes)"
   ]
  },
  {
   "cell_type": "code",
   "execution_count": null,
   "metadata": {},
   "outputs": [],
   "source": []
  },
  {
   "cell_type": "code",
   "execution_count": null,
   "metadata": {},
   "outputs": [],
   "source": []
  }
 ],
 "metadata": {
  "kernelspec": {
   "display_name": "Python 2",
   "language": "python",
   "name": "python2"
  },
  "language_info": {
   "codemirror_mode": {
    "name": "ipython",
    "version": 2
   },
   "file_extension": ".py",
   "mimetype": "text/x-python",
   "name": "python",
   "nbconvert_exporter": "python",
   "pygments_lexer": "ipython2",
   "version": "2.7.14"
  }
 },
 "nbformat": 4,
 "nbformat_minor": 2
}
